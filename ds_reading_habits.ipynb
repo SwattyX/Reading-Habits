{
 "cells": [
  {
   "cell_type": "code",
   "execution_count": 3,
   "metadata": {},
   "outputs": [],
   "source": [
    "import pandas as pd\n",
    "import numpy as np\n",
    "import calendar\n",
    "from datetime import datetime\n",
    "from matplotlib import dates as mpl_dates\n",
    "import matplotlib.pyplot as plt\n",
    "import seaborn as sns\n",
    "import timeit"
   ]
  },
  {
   "cell_type": "code",
   "execution_count": 4,
   "metadata": {},
   "outputs": [
    {
     "data": {
      "text/html": [
       "<div>\n",
       "<style scoped>\n",
       "    .dataframe tbody tr th:only-of-type {\n",
       "        vertical-align: middle;\n",
       "    }\n",
       "\n",
       "    .dataframe tbody tr th {\n",
       "        vertical-align: top;\n",
       "    }\n",
       "\n",
       "    .dataframe thead th {\n",
       "        text-align: right;\n",
       "    }\n",
       "</style>\n",
       "<table border=\"1\" class=\"dataframe\">\n",
       "  <thead>\n",
       "    <tr style=\"text-align: right;\">\n",
       "      <th></th>\n",
       "      <th>Age</th>\n",
       "      <th>Sex</th>\n",
       "      <th>Race</th>\n",
       "      <th>Marital status?</th>\n",
       "      <th>Education</th>\n",
       "      <th>Employement</th>\n",
       "      <th>Incomes</th>\n",
       "      <th>How many books did you read during last 12months?</th>\n",
       "      <th>Read any printed books during last 12months?</th>\n",
       "      <th>Read any audiobooks during last 12months?</th>\n",
       "      <th>Read any e-books during last 12months?</th>\n",
       "      <th>Last book you read, you…</th>\n",
       "      <th>Do you happen to read any daily news or newspapers?</th>\n",
       "      <th>Do you happen to read any magazines or journals?</th>\n",
       "    </tr>\n",
       "  </thead>\n",
       "  <tbody>\n",
       "    <tr>\n",
       "      <th>0</th>\n",
       "      <td>66</td>\n",
       "      <td>Male</td>\n",
       "      <td>Refused</td>\n",
       "      <td>Divorced</td>\n",
       "      <td>College graduate</td>\n",
       "      <td>Retired</td>\n",
       "      <td>$20,000 to under $30,000</td>\n",
       "      <td>97</td>\n",
       "      <td>Yes</td>\n",
       "      <td>No</td>\n",
       "      <td>Yes</td>\n",
       "      <td>Purchased the book</td>\n",
       "      <td>No</td>\n",
       "      <td>Yes</td>\n",
       "    </tr>\n",
       "    <tr>\n",
       "      <th>1</th>\n",
       "      <td>46</td>\n",
       "      <td>Male</td>\n",
       "      <td>Native American/American Indian</td>\n",
       "      <td>Married</td>\n",
       "      <td>High school graduate</td>\n",
       "      <td>Employed full-time</td>\n",
       "      <td>Less than $10,000</td>\n",
       "      <td>97</td>\n",
       "      <td>Yes</td>\n",
       "      <td>Yes</td>\n",
       "      <td>Yes</td>\n",
       "      <td>Purchased the book</td>\n",
       "      <td>Yes</td>\n",
       "      <td>Yes</td>\n",
       "    </tr>\n",
       "    <tr>\n",
       "      <th>2</th>\n",
       "      <td>32</td>\n",
       "      <td>Male</td>\n",
       "      <td>Mixed race</td>\n",
       "      <td>Never been married</td>\n",
       "      <td>High school graduate</td>\n",
       "      <td>Employed full-time</td>\n",
       "      <td>Less than $10,000</td>\n",
       "      <td>97</td>\n",
       "      <td>No</td>\n",
       "      <td>Yes</td>\n",
       "      <td>Yes</td>\n",
       "      <td>Borrowed the book from a friend or family member</td>\n",
       "      <td>Yes</td>\n",
       "      <td>Yes</td>\n",
       "    </tr>\n",
       "    <tr>\n",
       "      <th>3</th>\n",
       "      <td>27</td>\n",
       "      <td>Male</td>\n",
       "      <td>Mixed race</td>\n",
       "      <td>Married</td>\n",
       "      <td>High school graduate</td>\n",
       "      <td>Employed full-time</td>\n",
       "      <td>$40,000 to under $50,000</td>\n",
       "      <td>97</td>\n",
       "      <td>Yes</td>\n",
       "      <td>No</td>\n",
       "      <td>Yes</td>\n",
       "      <td>Borrowed the book from a library</td>\n",
       "      <td>Yes</td>\n",
       "      <td>No</td>\n",
       "    </tr>\n",
       "    <tr>\n",
       "      <th>4</th>\n",
       "      <td>16</td>\n",
       "      <td>Female</td>\n",
       "      <td>Mixed race</td>\n",
       "      <td>Never been married</td>\n",
       "      <td>High school incomplete</td>\n",
       "      <td>Employed part-time</td>\n",
       "      <td>$10,000 to under $20,000</td>\n",
       "      <td>97</td>\n",
       "      <td>Yes</td>\n",
       "      <td>Yes</td>\n",
       "      <td>No</td>\n",
       "      <td>Purchased the book</td>\n",
       "      <td>Yes</td>\n",
       "      <td>No</td>\n",
       "    </tr>\n",
       "  </tbody>\n",
       "</table>\n",
       "</div>"
      ],
      "text/plain": [
       "   Age     Sex                             Race     Marital status?  \\\n",
       "0   66    Male                          Refused            Divorced   \n",
       "1   46    Male  Native American/American Indian             Married   \n",
       "2   32    Male                       Mixed race  Never been married   \n",
       "3   27    Male                       Mixed race             Married   \n",
       "4   16  Female                       Mixed race  Never been married   \n",
       "\n",
       "                Education         Employement                   Incomes  \\\n",
       "0        College graduate             Retired  $20,000 to under $30,000   \n",
       "1    High school graduate  Employed full-time         Less than $10,000   \n",
       "2    High school graduate  Employed full-time         Less than $10,000   \n",
       "3    High school graduate  Employed full-time  $40,000 to under $50,000   \n",
       "4  High school incomplete  Employed part-time  $10,000 to under $20,000   \n",
       "\n",
       "   How many books did you read during last 12months?  \\\n",
       "0                                                 97   \n",
       "1                                                 97   \n",
       "2                                                 97   \n",
       "3                                                 97   \n",
       "4                                                 97   \n",
       "\n",
       "  Read any printed books during last 12months?  \\\n",
       "0                                          Yes   \n",
       "1                                          Yes   \n",
       "2                                           No   \n",
       "3                                          Yes   \n",
       "4                                          Yes   \n",
       "\n",
       "  Read any audiobooks during last 12months?  \\\n",
       "0                                        No   \n",
       "1                                       Yes   \n",
       "2                                       Yes   \n",
       "3                                        No   \n",
       "4                                       Yes   \n",
       "\n",
       "  Read any e-books during last 12months?  \\\n",
       "0                                    Yes   \n",
       "1                                    Yes   \n",
       "2                                    Yes   \n",
       "3                                    Yes   \n",
       "4                                     No   \n",
       "\n",
       "                           Last book you read, you…  \\\n",
       "0                                Purchased the book   \n",
       "1                                Purchased the book   \n",
       "2  Borrowed the book from a friend or family member   \n",
       "3                  Borrowed the book from a library   \n",
       "4                                Purchased the book   \n",
       "\n",
       "  Do you happen to read any daily news or newspapers?  \\\n",
       "0                                                 No    \n",
       "1                                                Yes    \n",
       "2                                                Yes    \n",
       "3                                                Yes    \n",
       "4                                                Yes    \n",
       "\n",
       "  Do you happen to read any magazines or journals?  \n",
       "0                                              Yes  \n",
       "1                                              Yes  \n",
       "2                                              Yes  \n",
       "3                                               No  \n",
       "4                                               No  "
      ]
     },
     "execution_count": 4,
     "metadata": {},
     "output_type": "execute_result"
    }
   ],
   "source": [
    "df = pd.read_csv('reading_habits.csv')\n",
    "df.head()"
   ]
  },
  {
   "cell_type": "code",
   "execution_count": 5,
   "metadata": {},
   "outputs": [
    {
     "data": {
      "text/plain": [
       "Age                                                     int64\n",
       "Sex                                                    object\n",
       "Race                                                   object\n",
       "Marital status?                                        object\n",
       "Education                                              object\n",
       "Employement                                            object\n",
       "Incomes                                                object\n",
       "How many books did you read during last 12months?       int64\n",
       "Read any printed books during last 12months?           object\n",
       "Read any audiobooks during last 12months?              object\n",
       "Read any e-books during last 12months?                 object\n",
       "Last book you read, you…                               object\n",
       "Do you happen to read any daily news or newspapers?    object\n",
       "Do you happen to read any magazines or journals?       object\n",
       "dtype: object"
      ]
     },
     "execution_count": 5,
     "metadata": {},
     "output_type": "execute_result"
    }
   ],
   "source": [
    "df.dtypes"
   ]
  },
  {
   "cell_type": "code",
   "execution_count": 14,
   "metadata": {},
   "outputs": [
    {
     "name": "stdout",
     "output_type": "stream",
     "text": [
      "Age\n",
      "50    78\n",
      "65    76\n",
      "60    72\n",
      "47    70\n",
      "16    68\n",
      "      ..\n",
      "91     3\n",
      "89     2\n",
      "90     2\n",
      "92     2\n",
      "93     1\n",
      "Name: Age, Length: 78, dtype: int64\n",
      "\n",
      "Sex\n",
      "Female    1479\n",
      "Male      1353\n",
      "Name: Sex, dtype: int64\n",
      "\n",
      "Race\n",
      "White                              2217\n",
      "Black or African-American           347\n",
      "Asian or Pacific Islander            70\n",
      "Mixed race                           63\n",
      "Other                                58\n",
      "Refused                              37\n",
      "Native American/American Indian      31\n",
      "Don’t know                            9\n",
      "Name: Race, dtype: int64\n",
      "\n",
      "Marital status?\n",
      "Married                  1532\n",
      "Never been married        592\n",
      "Divorced                  245\n",
      "Widowed                   191\n",
      "Living with a partner     141\n",
      "Single                     60\n",
      "Separated                  54\n",
      "Don’t know                 17\n",
      "Name: Marital status?, dtype: int64\n",
      "\n",
      "Education\n",
      "High school graduate                                        688\n",
      "Some college, no 4-year degree                              651\n",
      "College graduate                                            597\n",
      "Post-graduate training/professional school after college    501\n",
      "High school incomplete                                      263\n",
      "Technical, trade or vocational school AFTER high school      66\n",
      "None                                                         58\n",
      "Don’t know                                                    8\n",
      "Name: Education, dtype: int64\n",
      "\n",
      "Employement\n",
      "Employed full-time                 1238\n",
      "Retired                             605\n",
      "Not employed for pay                474\n",
      "Employed part-time                  355\n",
      "Disabled                             70\n",
      "Have own business/self-employed      53\n",
      "Student                              22\n",
      "Other                                15\n",
      "Name: Employement, dtype: int64\n",
      "\n",
      "Incomes\n",
      "$100,000 to under $150,000     530\n",
      "$50,000 to under $75,000       394\n",
      "$75,000 to under $100,000      316\n",
      "Refused                        291\n",
      "$30,000 to under $40,000       265\n",
      "$20,000 to under $30,000       238\n",
      "$10,000 to under $20,000       216\n",
      "9$100,000 to under $150,000    212\n",
      "$40,000 to under $50,000       207\n",
      "Less than $10,000              163\n",
      "Name: Incomes, dtype: int64\n",
      "\n",
      "How many books did you read during last 12months?\n",
      "0     390\n",
      "3     209\n",
      "6     172\n",
      "2     169\n",
      "5     167\n",
      "4     166\n",
      "10    162\n",
      "20    159\n",
      "12    159\n",
      "1     149\n",
      "97    124\n",
      "30    109\n",
      "50    108\n",
      "15    103\n",
      "25     82\n",
      "8      69\n",
      "40     53\n",
      "7      49\n",
      "24     35\n",
      "60     19\n",
      "36     16\n",
      "35     15\n",
      "96     15\n",
      "75     14\n",
      "13     12\n",
      "16     11\n",
      "9      11\n",
      "70     10\n",
      "18     10\n",
      "14      9\n",
      "45      7\n",
      "17      6\n",
      "80      6\n",
      "48      5\n",
      "11      4\n",
      "55      3\n",
      "32      3\n",
      "47      2\n",
      "90      2\n",
      "26      2\n",
      "65      2\n",
      "52      2\n",
      "19      1\n",
      "84      1\n",
      "76      1\n",
      "51      1\n",
      "42      1\n",
      "43      1\n",
      "54      1\n",
      "38      1\n",
      "67      1\n",
      "37      1\n",
      "23      1\n",
      "22      1\n",
      "Name: How many books did you read during last 12months?, dtype: int64\n",
      "\n",
      "Read any printed books during last 12months?\n",
      "Yes           2264\n",
      "No             168\n",
      "Don’t know      10\n",
      "Name: Read any printed books during last 12months?, dtype: int64\n",
      "\n",
      "Read any audiobooks during last 12months?\n",
      "No            2027\n",
      "Yes            411\n",
      "Don’t know       4\n",
      "Name: Read any audiobooks during last 12months?, dtype: int64\n",
      "\n",
      "Read any e-books during last 12months?\n",
      "No            1641\n",
      "Yes            787\n",
      "Don’t know      14\n",
      "Name: Read any e-books during last 12months?, dtype: int64\n",
      "\n",
      "Last book you read, you…\n",
      "Purchased the book                                  1266\n",
      "Borrowed the book from a friend or family member     501\n",
      "Borrowed the book from a library                     335\n",
      "Got the book some other way                          309\n",
      "8                                                     25\n",
      "9                                                      6\n",
      "Name: Last book you read, you…, dtype: int64\n",
      "\n",
      "Do you happen to read any daily news or newspapers?\n",
      "Yes           1750\n",
      "No            1077\n",
      "Don’t know       5\n",
      "Name: Do you happen to read any daily news or newspapers?, dtype: int64\n",
      "\n",
      "Do you happen to read any magazines or journals?\n",
      "Yes           1506\n",
      "No            1322\n",
      "Don’t know       4\n",
      "Name: Do you happen to read any magazines or journals?, dtype: int64\n",
      "\n"
     ]
    }
   ],
   "source": [
    "for col in df.columns:\n",
    "    print(col)\n",
    "    print(df[col].value_counts())\n",
    "    print(\"\")"
   ]
  },
  {
   "cell_type": "code",
   "execution_count": 15,
   "metadata": {},
   "outputs": [
    {
     "data": {
      "text/plain": [
       "White                              2217\n",
       "Black or African-American           347\n",
       "Asian or Pacific Islander            70\n",
       "Mixed race                           63\n",
       "Other                                58\n",
       "Refused                              37\n",
       "Native American/American Indian      31\n",
       "Don’t know                            9\n",
       "Name: Race, dtype: int64"
      ]
     },
     "execution_count": 15,
     "metadata": {},
     "output_type": "execute_result"
    }
   ],
   "source": [
    "df['Race'].value_counts()"
   ]
  },
  {
   "cell_type": "code",
   "execution_count": 18,
   "metadata": {},
   "outputs": [
    {
     "data": {
      "text/plain": [
       "Married                  1532\n",
       "Never been married        592\n",
       "Divorced                  245\n",
       "Widowed                   191\n",
       "Living with a partner     141\n",
       "Single                     60\n",
       "Separated                  54\n",
       "Don’t know                 17\n",
       "Name: Marital status?, dtype: int64"
      ]
     },
     "execution_count": 18,
     "metadata": {},
     "output_type": "execute_result"
    }
   ],
   "source": [
    "df['Marital status?'].value_counts()"
   ]
  },
  {
   "cell_type": "code",
   "execution_count": 19,
   "metadata": {},
   "outputs": [
    {
     "data": {
      "text/plain": [
       "High school graduate                                        688\n",
       "Some college, no 4-year degree                              651\n",
       "College graduate                                            597\n",
       "Post-graduate training/professional school after college    501\n",
       "High school incomplete                                      263\n",
       "Technical, trade or vocational school AFTER high school      66\n",
       "None                                                         58\n",
       "Don’t know                                                    8\n",
       "Name: Education, dtype: int64"
      ]
     },
     "execution_count": 19,
     "metadata": {},
     "output_type": "execute_result"
    }
   ],
   "source": [
    "df['Education'].value_counts()"
   ]
  },
  {
   "cell_type": "code",
   "execution_count": 20,
   "metadata": {},
   "outputs": [
    {
     "data": {
      "text/plain": [
       "Employed full-time                 1238\n",
       "Retired                             605\n",
       "Not employed for pay                474\n",
       "Employed part-time                  355\n",
       "Disabled                             70\n",
       "Have own business/self-employed      53\n",
       "Student                              22\n",
       "Other                                15\n",
       "Name: Employement, dtype: int64"
      ]
     },
     "execution_count": 20,
     "metadata": {},
     "output_type": "execute_result"
    }
   ],
   "source": [
    "df['Employement'].value_counts()"
   ]
  },
  {
   "cell_type": "code",
   "execution_count": 21,
   "metadata": {},
   "outputs": [
    {
     "data": {
      "text/plain": [
       "$100,000 to under $150,000     530\n",
       "$50,000 to under $75,000       394\n",
       "$75,000 to under $100,000      316\n",
       "Refused                        291\n",
       "$30,000 to under $40,000       265\n",
       "$20,000 to under $30,000       238\n",
       "$10,000 to under $20,000       216\n",
       "9$100,000 to under $150,000    212\n",
       "$40,000 to under $50,000       207\n",
       "Less than $10,000              163\n",
       "Name: Incomes, dtype: int64"
      ]
     },
     "execution_count": 21,
     "metadata": {},
     "output_type": "execute_result"
    }
   ],
   "source": [
    "df['Incomes'].value_counts()"
   ]
  },
  {
   "cell_type": "code",
   "execution_count": 22,
   "metadata": {},
   "outputs": [
    {
     "data": {
      "text/plain": [
       "Yes           2264\n",
       "No             168\n",
       "Don’t know      10\n",
       "Name: Read any printed books during last 12months?, dtype: int64"
      ]
     },
     "execution_count": 22,
     "metadata": {},
     "output_type": "execute_result"
    }
   ],
   "source": [
    "df['Read any printed books during last 12months?'].value_counts()"
   ]
  },
  {
   "cell_type": "code",
   "execution_count": 23,
   "metadata": {},
   "outputs": [
    {
     "data": {
      "text/plain": [
       "No            2027\n",
       "Yes            411\n",
       "Don’t know       4\n",
       "Name: Read any audiobooks during last 12months?, dtype: int64"
      ]
     },
     "execution_count": 23,
     "metadata": {},
     "output_type": "execute_result"
    }
   ],
   "source": [
    "df['Read any audiobooks during last 12months?'].value_counts()"
   ]
  },
  {
   "cell_type": "code",
   "execution_count": 24,
   "metadata": {},
   "outputs": [
    {
     "data": {
      "text/plain": [
       "No            1641\n",
       "Yes            787\n",
       "Don’t know      14\n",
       "Name: Read any e-books during last 12months?, dtype: int64"
      ]
     },
     "execution_count": 24,
     "metadata": {},
     "output_type": "execute_result"
    }
   ],
   "source": [
    "df['Read any e-books during last 12months?'].value_counts()"
   ]
  },
  {
   "cell_type": "code",
   "execution_count": 25,
   "metadata": {},
   "outputs": [
    {
     "data": {
      "text/plain": [
       "Purchased the book                                  1266\n",
       "Borrowed the book from a friend or family member     501\n",
       "Borrowed the book from a library                     335\n",
       "Got the book some other way                          309\n",
       "8                                                     25\n",
       "9                                                      6\n",
       "Name: Last book you read, you…, dtype: int64"
      ]
     },
     "execution_count": 25,
     "metadata": {},
     "output_type": "execute_result"
    }
   ],
   "source": [
    "df['Last book you read, you…'].value_counts()"
   ]
  },
  {
   "cell_type": "code",
   "execution_count": 26,
   "metadata": {},
   "outputs": [
    {
     "data": {
      "text/plain": [
       "Yes           1750\n",
       "No            1077\n",
       "Don’t know       5\n",
       "Name: Do you happen to read any daily news or newspapers?, dtype: int64"
      ]
     },
     "execution_count": 26,
     "metadata": {},
     "output_type": "execute_result"
    }
   ],
   "source": [
    "df['Do you happen to read any daily news or newspapers?'].value_counts()"
   ]
  },
  {
   "cell_type": "code",
   "execution_count": 27,
   "metadata": {},
   "outputs": [
    {
     "data": {
      "text/plain": [
       "Yes           1506\n",
       "No            1322\n",
       "Don’t know       4\n",
       "Name: Do you happen to read any magazines or journals?, dtype: int64"
      ]
     },
     "execution_count": 27,
     "metadata": {},
     "output_type": "execute_result"
    }
   ],
   "source": [
    "df['Do you happen to read any magazines or journals?'].value_counts()"
   ]
  },
  {
   "cell_type": "code",
   "execution_count": 31,
   "metadata": {},
   "outputs": [
    {
     "data": {
      "text/plain": [
       "Female    1479\n",
       "Male      1353\n",
       "Name: Sex, dtype: int64"
      ]
     },
     "execution_count": 31,
     "metadata": {},
     "output_type": "execute_result"
    }
   ],
   "source": [
    "df['Sex'].value_counts()"
   ]
  }
 ],
 "metadata": {
  "interpreter": {
   "hash": "63fd5069d213b44bf678585dea6b12cceca9941eaf7f819626cde1f2670de90d"
  },
  "kernelspec": {
   "display_name": "Python 3.9.1 64-bit",
   "language": "python",
   "name": "python3"
  },
  "language_info": {
   "codemirror_mode": {
    "name": "ipython",
    "version": 3
   },
   "file_extension": ".py",
   "mimetype": "text/x-python",
   "name": "python",
   "nbconvert_exporter": "python",
   "pygments_lexer": "ipython3",
   "version": "3.8.8"
  },
  "orig_nbformat": 4
 },
 "nbformat": 4,
 "nbformat_minor": 2
}
