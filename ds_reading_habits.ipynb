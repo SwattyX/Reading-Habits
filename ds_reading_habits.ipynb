{
 "cells": [
  {
   "cell_type": "code",
   "execution_count": 58,
   "metadata": {},
   "outputs": [],
   "source": [
    "import pandas as pd\n",
    "import numpy as np\n",
    "import matplotlib.pyplot as plt\n",
    "import seaborn as sns\n",
    "import timeit\n",
    "import re"
   ]
  },
  {
   "cell_type": "code",
   "execution_count": 59,
   "metadata": {},
   "outputs": [
    {
     "data": {
      "text/html": [
       "<div>\n",
       "<style scoped>\n",
       "    .dataframe tbody tr th:only-of-type {\n",
       "        vertical-align: middle;\n",
       "    }\n",
       "\n",
       "    .dataframe tbody tr th {\n",
       "        vertical-align: top;\n",
       "    }\n",
       "\n",
       "    .dataframe thead th {\n",
       "        text-align: right;\n",
       "    }\n",
       "</style>\n",
       "<table border=\"1\" class=\"dataframe\">\n",
       "  <thead>\n",
       "    <tr style=\"text-align: right;\">\n",
       "      <th></th>\n",
       "      <th>Age</th>\n",
       "      <th>Sex</th>\n",
       "      <th>Race</th>\n",
       "      <th>Marital status?</th>\n",
       "      <th>Education</th>\n",
       "      <th>Employement</th>\n",
       "      <th>Incomes</th>\n",
       "      <th>How many books did you read during last 12months?</th>\n",
       "      <th>Read any printed books during last 12months?</th>\n",
       "      <th>Read any audiobooks during last 12months?</th>\n",
       "      <th>Read any e-books during last 12months?</th>\n",
       "      <th>Last book you read, you…</th>\n",
       "      <th>Do you happen to read any daily news or newspapers?</th>\n",
       "      <th>Do you happen to read any magazines or journals?</th>\n",
       "    </tr>\n",
       "  </thead>\n",
       "  <tbody>\n",
       "    <tr>\n",
       "      <th>0</th>\n",
       "      <td>66</td>\n",
       "      <td>Male</td>\n",
       "      <td>Refused</td>\n",
       "      <td>Divorced</td>\n",
       "      <td>College graduate</td>\n",
       "      <td>Retired</td>\n",
       "      <td>$20,000 to under $30,000</td>\n",
       "      <td>97</td>\n",
       "      <td>Yes</td>\n",
       "      <td>No</td>\n",
       "      <td>Yes</td>\n",
       "      <td>Purchased the book</td>\n",
       "      <td>No</td>\n",
       "      <td>Yes</td>\n",
       "    </tr>\n",
       "    <tr>\n",
       "      <th>1</th>\n",
       "      <td>46</td>\n",
       "      <td>Male</td>\n",
       "      <td>Native American/American Indian</td>\n",
       "      <td>Married</td>\n",
       "      <td>High school graduate</td>\n",
       "      <td>Employed full-time</td>\n",
       "      <td>Less than $10,000</td>\n",
       "      <td>97</td>\n",
       "      <td>Yes</td>\n",
       "      <td>Yes</td>\n",
       "      <td>Yes</td>\n",
       "      <td>Purchased the book</td>\n",
       "      <td>Yes</td>\n",
       "      <td>Yes</td>\n",
       "    </tr>\n",
       "    <tr>\n",
       "      <th>2</th>\n",
       "      <td>32</td>\n",
       "      <td>Male</td>\n",
       "      <td>Mixed race</td>\n",
       "      <td>Never been married</td>\n",
       "      <td>High school graduate</td>\n",
       "      <td>Employed full-time</td>\n",
       "      <td>Less than $10,000</td>\n",
       "      <td>97</td>\n",
       "      <td>No</td>\n",
       "      <td>Yes</td>\n",
       "      <td>Yes</td>\n",
       "      <td>Borrowed the book from a friend or family member</td>\n",
       "      <td>Yes</td>\n",
       "      <td>Yes</td>\n",
       "    </tr>\n",
       "    <tr>\n",
       "      <th>3</th>\n",
       "      <td>27</td>\n",
       "      <td>Male</td>\n",
       "      <td>Mixed race</td>\n",
       "      <td>Married</td>\n",
       "      <td>High school graduate</td>\n",
       "      <td>Employed full-time</td>\n",
       "      <td>$40,000 to under $50,000</td>\n",
       "      <td>97</td>\n",
       "      <td>Yes</td>\n",
       "      <td>No</td>\n",
       "      <td>Yes</td>\n",
       "      <td>Borrowed the book from a library</td>\n",
       "      <td>Yes</td>\n",
       "      <td>No</td>\n",
       "    </tr>\n",
       "    <tr>\n",
       "      <th>4</th>\n",
       "      <td>16</td>\n",
       "      <td>Female</td>\n",
       "      <td>Mixed race</td>\n",
       "      <td>Never been married</td>\n",
       "      <td>High school incomplete</td>\n",
       "      <td>Employed part-time</td>\n",
       "      <td>$10,000 to under $20,000</td>\n",
       "      <td>97</td>\n",
       "      <td>Yes</td>\n",
       "      <td>Yes</td>\n",
       "      <td>No</td>\n",
       "      <td>Purchased the book</td>\n",
       "      <td>Yes</td>\n",
       "      <td>No</td>\n",
       "    </tr>\n",
       "  </tbody>\n",
       "</table>\n",
       "</div>"
      ],
      "text/plain": [
       "   Age     Sex                             Race     Marital status?  \\\n",
       "0   66    Male                          Refused            Divorced   \n",
       "1   46    Male  Native American/American Indian             Married   \n",
       "2   32    Male                       Mixed race  Never been married   \n",
       "3   27    Male                       Mixed race             Married   \n",
       "4   16  Female                       Mixed race  Never been married   \n",
       "\n",
       "                Education         Employement                   Incomes  \\\n",
       "0        College graduate             Retired  $20,000 to under $30,000   \n",
       "1    High school graduate  Employed full-time         Less than $10,000   \n",
       "2    High school graduate  Employed full-time         Less than $10,000   \n",
       "3    High school graduate  Employed full-time  $40,000 to under $50,000   \n",
       "4  High school incomplete  Employed part-time  $10,000 to under $20,000   \n",
       "\n",
       "   How many books did you read during last 12months?  \\\n",
       "0                                                 97   \n",
       "1                                                 97   \n",
       "2                                                 97   \n",
       "3                                                 97   \n",
       "4                                                 97   \n",
       "\n",
       "  Read any printed books during last 12months?  \\\n",
       "0                                          Yes   \n",
       "1                                          Yes   \n",
       "2                                           No   \n",
       "3                                          Yes   \n",
       "4                                          Yes   \n",
       "\n",
       "  Read any audiobooks during last 12months?  \\\n",
       "0                                        No   \n",
       "1                                       Yes   \n",
       "2                                       Yes   \n",
       "3                                        No   \n",
       "4                                       Yes   \n",
       "\n",
       "  Read any e-books during last 12months?  \\\n",
       "0                                    Yes   \n",
       "1                                    Yes   \n",
       "2                                    Yes   \n",
       "3                                    Yes   \n",
       "4                                     No   \n",
       "\n",
       "                           Last book you read, you…  \\\n",
       "0                                Purchased the book   \n",
       "1                                Purchased the book   \n",
       "2  Borrowed the book from a friend or family member   \n",
       "3                  Borrowed the book from a library   \n",
       "4                                Purchased the book   \n",
       "\n",
       "  Do you happen to read any daily news or newspapers?  \\\n",
       "0                                                 No    \n",
       "1                                                Yes    \n",
       "2                                                Yes    \n",
       "3                                                Yes    \n",
       "4                                                Yes    \n",
       "\n",
       "  Do you happen to read any magazines or journals?  \n",
       "0                                              Yes  \n",
       "1                                              Yes  \n",
       "2                                              Yes  \n",
       "3                                               No  \n",
       "4                                               No  "
      ]
     },
     "execution_count": 59,
     "metadata": {},
     "output_type": "execute_result"
    }
   ],
   "source": [
    "df = pd.read_csv('reading_habits.csv')\n",
    "df.head()"
   ]
  },
  {
   "cell_type": "code",
   "execution_count": 60,
   "metadata": {},
   "outputs": [
    {
     "data": {
      "text/plain": [
       "Age                                                     int64\n",
       "Sex                                                    object\n",
       "Race                                                   object\n",
       "Marital status?                                        object\n",
       "Education                                              object\n",
       "Employement                                            object\n",
       "Incomes                                                object\n",
       "How many books did you read during last 12months?       int64\n",
       "Read any printed books during last 12months?           object\n",
       "Read any audiobooks during last 12months?              object\n",
       "Read any e-books during last 12months?                 object\n",
       "Last book you read, you…                               object\n",
       "Do you happen to read any daily news or newspapers?    object\n",
       "Do you happen to read any magazines or journals?       object\n",
       "dtype: object"
      ]
     },
     "execution_count": 60,
     "metadata": {},
     "output_type": "execute_result"
    }
   ],
   "source": [
    "df.dtypes"
   ]
  },
  {
   "cell_type": "code",
   "execution_count": 61,
   "metadata": {},
   "outputs": [
    {
     "name": "stdout",
     "output_type": "stream",
     "text": [
      "Age\n",
      "50    78\n",
      "65    76\n",
      "60    72\n",
      "47    70\n",
      "16    68\n",
      "      ..\n",
      "91     3\n",
      "89     2\n",
      "90     2\n",
      "92     2\n",
      "93     1\n",
      "Name: Age, Length: 78, dtype: int64\n",
      "\n",
      "Sex\n",
      "Female    1479\n",
      "Male      1353\n",
      "Name: Sex, dtype: int64\n",
      "\n",
      "Race\n",
      "White                              2217\n",
      "Black or African-American           347\n",
      "Asian or Pacific Islander            70\n",
      "Mixed race                           63\n",
      "Other                                58\n",
      "Refused                              37\n",
      "Native American/American Indian      31\n",
      "Don’t know                            9\n",
      "Name: Race, dtype: int64\n",
      "\n",
      "Marital status?\n",
      "Married                  1532\n",
      "Never been married        592\n",
      "Divorced                  245\n",
      "Widowed                   191\n",
      "Living with a partner     141\n",
      "Single                     60\n",
      "Separated                  54\n",
      "Don’t know                 17\n",
      "Name: Marital status?, dtype: int64\n",
      "\n",
      "Education\n",
      "High school graduate                                        688\n",
      "Some college, no 4-year degree                              651\n",
      "College graduate                                            597\n",
      "Post-graduate training/professional school after college    501\n",
      "High school incomplete                                      263\n",
      "Technical, trade or vocational school AFTER high school      66\n",
      "None                                                         58\n",
      "Don’t know                                                    8\n",
      "Name: Education, dtype: int64\n",
      "\n",
      "Employement\n",
      "Employed full-time                 1238\n",
      "Retired                             605\n",
      "Not employed for pay                474\n",
      "Employed part-time                  355\n",
      "Disabled                             70\n",
      "Have own business/self-employed      53\n",
      "Student                              22\n",
      "Other                                15\n",
      "Name: Employement, dtype: int64\n",
      "\n",
      "Incomes\n",
      "$100,000 to under $150,000     530\n",
      "$50,000 to under $75,000       394\n",
      "$75,000 to under $100,000      316\n",
      "Refused                        291\n",
      "$30,000 to under $40,000       265\n",
      "$20,000 to under $30,000       238\n",
      "$10,000 to under $20,000       216\n",
      "9$100,000 to under $150,000    212\n",
      "$40,000 to under $50,000       207\n",
      "Less than $10,000              163\n",
      "Name: Incomes, dtype: int64\n",
      "\n",
      "How many books did you read during last 12months?\n",
      "0     390\n",
      "3     209\n",
      "6     172\n",
      "2     169\n",
      "5     167\n",
      "4     166\n",
      "10    162\n",
      "20    159\n",
      "12    159\n",
      "1     149\n",
      "97    124\n",
      "30    109\n",
      "50    108\n",
      "15    103\n",
      "25     82\n",
      "8      69\n",
      "40     53\n",
      "7      49\n",
      "24     35\n",
      "60     19\n",
      "36     16\n",
      "35     15\n",
      "96     15\n",
      "75     14\n",
      "13     12\n",
      "16     11\n",
      "9      11\n",
      "70     10\n",
      "18     10\n",
      "14      9\n",
      "45      7\n",
      "17      6\n",
      "80      6\n",
      "48      5\n",
      "11      4\n",
      "55      3\n",
      "32      3\n",
      "47      2\n",
      "90      2\n",
      "26      2\n",
      "65      2\n",
      "52      2\n",
      "19      1\n",
      "84      1\n",
      "76      1\n",
      "51      1\n",
      "42      1\n",
      "43      1\n",
      "54      1\n",
      "38      1\n",
      "67      1\n",
      "37      1\n",
      "23      1\n",
      "22      1\n",
      "Name: How many books did you read during last 12months?, dtype: int64\n",
      "\n",
      "Read any printed books during last 12months?\n",
      "Yes           2264\n",
      "No             168\n",
      "Don’t know      10\n",
      "Name: Read any printed books during last 12months?, dtype: int64\n",
      "\n",
      "Read any audiobooks during last 12months?\n",
      "No            2027\n",
      "Yes            411\n",
      "Don’t know       4\n",
      "Name: Read any audiobooks during last 12months?, dtype: int64\n",
      "\n",
      "Read any e-books during last 12months?\n",
      "No            1641\n",
      "Yes            787\n",
      "Don’t know      14\n",
      "Name: Read any e-books during last 12months?, dtype: int64\n",
      "\n",
      "Last book you read, you…\n",
      "Purchased the book                                  1266\n",
      "Borrowed the book from a friend or family member     501\n",
      "Borrowed the book from a library                     335\n",
      "Got the book some other way                          309\n",
      "8                                                     25\n",
      "9                                                      6\n",
      "Name: Last book you read, you…, dtype: int64\n",
      "\n",
      "Do you happen to read any daily news or newspapers?\n",
      "Yes           1750\n",
      "No            1077\n",
      "Don’t know       5\n",
      "Name: Do you happen to read any daily news or newspapers?, dtype: int64\n",
      "\n",
      "Do you happen to read any magazines or journals?\n",
      "Yes           1506\n",
      "No            1322\n",
      "Don’t know       4\n",
      "Name: Do you happen to read any magazines or journals?, dtype: int64\n",
      "\n"
     ]
    }
   ],
   "source": [
    "for col in df.columns:\n",
    "    print(col)\n",
    "    print(df[col].value_counts())\n",
    "    print(\"\")"
   ]
  },
  {
   "cell_type": "code",
   "execution_count": 62,
   "metadata": {},
   "outputs": [
    {
     "data": {
      "text/html": [
       "<div>\n",
       "<style scoped>\n",
       "    .dataframe tbody tr th:only-of-type {\n",
       "        vertical-align: middle;\n",
       "    }\n",
       "\n",
       "    .dataframe tbody tr th {\n",
       "        vertical-align: top;\n",
       "    }\n",
       "\n",
       "    .dataframe thead th {\n",
       "        text-align: right;\n",
       "    }\n",
       "</style>\n",
       "<table border=\"1\" class=\"dataframe\">\n",
       "  <thead>\n",
       "    <tr style=\"text-align: right;\">\n",
       "      <th></th>\n",
       "      <th>Age</th>\n",
       "      <th>Race</th>\n",
       "      <th>Sex</th>\n",
       "      <th>Education</th>\n",
       "      <th>Employement</th>\n",
       "      <th>How many books did you read during last 12months?</th>\n",
       "      <th>Read any printed books during last 12months?</th>\n",
       "      <th>Read any audiobooks during last 12months?</th>\n",
       "      <th>Read any e-books during last 12months?</th>\n",
       "      <th>Do you happen to read any daily news or newspapers?</th>\n",
       "      <th>Do you happen to read any magazines or journals?</th>\n",
       "      <th>Incomes</th>\n",
       "    </tr>\n",
       "  </thead>\n",
       "  <tbody>\n",
       "    <tr>\n",
       "      <th>0</th>\n",
       "      <td>66</td>\n",
       "      <td>Refused</td>\n",
       "      <td>Male</td>\n",
       "      <td>College graduate</td>\n",
       "      <td>Retired</td>\n",
       "      <td>97</td>\n",
       "      <td>Yes</td>\n",
       "      <td>No</td>\n",
       "      <td>Yes</td>\n",
       "      <td>No</td>\n",
       "      <td>Yes</td>\n",
       "      <td>$20,000 to under $30,000</td>\n",
       "    </tr>\n",
       "    <tr>\n",
       "      <th>1</th>\n",
       "      <td>46</td>\n",
       "      <td>Native American/American Indian</td>\n",
       "      <td>Male</td>\n",
       "      <td>High school graduate</td>\n",
       "      <td>Employed full-time</td>\n",
       "      <td>97</td>\n",
       "      <td>Yes</td>\n",
       "      <td>Yes</td>\n",
       "      <td>Yes</td>\n",
       "      <td>Yes</td>\n",
       "      <td>Yes</td>\n",
       "      <td>Less than $10,000</td>\n",
       "    </tr>\n",
       "    <tr>\n",
       "      <th>2</th>\n",
       "      <td>32</td>\n",
       "      <td>Mixed race</td>\n",
       "      <td>Male</td>\n",
       "      <td>High school graduate</td>\n",
       "      <td>Employed full-time</td>\n",
       "      <td>97</td>\n",
       "      <td>No</td>\n",
       "      <td>Yes</td>\n",
       "      <td>Yes</td>\n",
       "      <td>Yes</td>\n",
       "      <td>Yes</td>\n",
       "      <td>Less than $10,000</td>\n",
       "    </tr>\n",
       "    <tr>\n",
       "      <th>3</th>\n",
       "      <td>27</td>\n",
       "      <td>Mixed race</td>\n",
       "      <td>Male</td>\n",
       "      <td>High school graduate</td>\n",
       "      <td>Employed full-time</td>\n",
       "      <td>97</td>\n",
       "      <td>Yes</td>\n",
       "      <td>No</td>\n",
       "      <td>Yes</td>\n",
       "      <td>Yes</td>\n",
       "      <td>No</td>\n",
       "      <td>$40,000 to under $50,000</td>\n",
       "    </tr>\n",
       "    <tr>\n",
       "      <th>4</th>\n",
       "      <td>16</td>\n",
       "      <td>Mixed race</td>\n",
       "      <td>Female</td>\n",
       "      <td>High school incomplete</td>\n",
       "      <td>Employed part-time</td>\n",
       "      <td>97</td>\n",
       "      <td>Yes</td>\n",
       "      <td>Yes</td>\n",
       "      <td>No</td>\n",
       "      <td>Yes</td>\n",
       "      <td>No</td>\n",
       "      <td>$10,000 to under $20,000</td>\n",
       "    </tr>\n",
       "  </tbody>\n",
       "</table>\n",
       "</div>"
      ],
      "text/plain": [
       "   Age                             Race     Sex               Education  \\\n",
       "0   66                          Refused    Male        College graduate   \n",
       "1   46  Native American/American Indian    Male    High school graduate   \n",
       "2   32                       Mixed race    Male    High school graduate   \n",
       "3   27                       Mixed race    Male    High school graduate   \n",
       "4   16                       Mixed race  Female  High school incomplete   \n",
       "\n",
       "          Employement  How many books did you read during last 12months?  \\\n",
       "0             Retired                                                 97   \n",
       "1  Employed full-time                                                 97   \n",
       "2  Employed full-time                                                 97   \n",
       "3  Employed full-time                                                 97   \n",
       "4  Employed part-time                                                 97   \n",
       "\n",
       "  Read any printed books during last 12months?  \\\n",
       "0                                          Yes   \n",
       "1                                          Yes   \n",
       "2                                           No   \n",
       "3                                          Yes   \n",
       "4                                          Yes   \n",
       "\n",
       "  Read any audiobooks during last 12months?  \\\n",
       "0                                        No   \n",
       "1                                       Yes   \n",
       "2                                       Yes   \n",
       "3                                        No   \n",
       "4                                       Yes   \n",
       "\n",
       "  Read any e-books during last 12months?  \\\n",
       "0                                    Yes   \n",
       "1                                    Yes   \n",
       "2                                    Yes   \n",
       "3                                    Yes   \n",
       "4                                     No   \n",
       "\n",
       "  Do you happen to read any daily news or newspapers?  \\\n",
       "0                                                 No    \n",
       "1                                                Yes    \n",
       "2                                                Yes    \n",
       "3                                                Yes    \n",
       "4                                                Yes    \n",
       "\n",
       "  Do you happen to read any magazines or journals?                   Incomes  \n",
       "0                                              Yes  $20,000 to under $30,000  \n",
       "1                                              Yes         Less than $10,000  \n",
       "2                                              Yes         Less than $10,000  \n",
       "3                                               No  $40,000 to under $50,000  \n",
       "4                                               No  $10,000 to under $20,000  "
      ]
     },
     "execution_count": 62,
     "metadata": {},
     "output_type": "execute_result"
    }
   ],
   "source": [
    "dataset = df[['Age','Race','Sex','Education','Employement','How many books did you read during last 12months?','Read any printed books during last 12months?','Read any audiobooks during last 12months?','Read any e-books during last 12months?','Do you happen to read any daily news or newspapers?','Do you happen to read any magazines or journals?','Incomes']]\n",
    "dataset.head()"
   ]
  },
  {
   "cell_type": "code",
   "execution_count": 63,
   "metadata": {},
   "outputs": [],
   "source": [
    "dataset = dataset.rename(columns={'How many books did you read during last 12months?':'Books_last_12m', 'Read any printed books during last 12months?': 'Printed_books', 'Read any audiobooks during last 12months?':'Audio_books','Read any e-books during last 12months?':'E_books','Do you happen to read any daily news or newspapers?':'Daily_news','Do you happen to read any magazines or journals?':'Magazines_journals'})"
   ]
  },
  {
   "cell_type": "code",
   "execution_count": 64,
   "metadata": {},
   "outputs": [
    {
     "data": {
      "text/plain": [
       "$100,000 to under $150,000     530\n",
       "$50,000 to under $75,000       394\n",
       "$75,000 to under $100,000      316\n",
       "Refused                        291\n",
       "$30,000 to under $40,000       265\n",
       "$20,000 to under $30,000       238\n",
       "$10,000 to under $20,000       216\n",
       "9$100,000 to under $150,000    212\n",
       "$40,000 to under $50,000       207\n",
       "Less than $10,000              163\n",
       "Name: Incomes, dtype: int64"
      ]
     },
     "execution_count": 64,
     "metadata": {},
     "output_type": "execute_result"
    }
   ],
   "source": [
    "dataset['Incomes'].value_counts()"
   ]
  },
  {
   "cell_type": "code",
   "execution_count": 65,
   "metadata": {},
   "outputs": [],
   "source": [
    "dataset['Incomes'] = dataset['Incomes'].apply(lambda x: x[1:] if x == '9$100,000 to under $150,000' else x)"
   ]
  },
  {
   "cell_type": "code",
   "execution_count": 66,
   "metadata": {},
   "outputs": [
    {
     "data": {
      "text/plain": [
       "$100,000 to under $150,000    742\n",
       "$50,000 to under $75,000      394\n",
       "$75,000 to under $100,000     316\n",
       "Refused                       291\n",
       "$30,000 to under $40,000      265\n",
       "$20,000 to under $30,000      238\n",
       "$10,000 to under $20,000      216\n",
       "$40,000 to under $50,000      207\n",
       "Less than $10,000             163\n",
       "Name: Incomes, dtype: int64"
      ]
     },
     "execution_count": 66,
     "metadata": {},
     "output_type": "execute_result"
    }
   ],
   "source": [
    "dataset['Incomes'].value_counts()"
   ]
  },
  {
   "cell_type": "code",
   "execution_count": 67,
   "metadata": {},
   "outputs": [
    {
     "data": {
      "text/plain": [
       "(2541, 12)"
      ]
     },
     "execution_count": 67,
     "metadata": {},
     "output_type": "execute_result"
    }
   ],
   "source": [
    "dataset = dataset.drop(dataset[dataset.Incomes == 'Refused'].index)\n",
    "dataset.shape"
   ]
  },
  {
   "cell_type": "code",
   "execution_count": 68,
   "metadata": {},
   "outputs": [
    {
     "data": {
      "text/plain": [
       "$100,000    742\n",
       "$50,000     394\n",
       "$75,000     316\n",
       "$30,000     265\n",
       "$20,000     238\n",
       "$10,000     216\n",
       "$40,000     207\n",
       "Less        163\n",
       "Name: Incomes_min, dtype: int64"
      ]
     },
     "execution_count": 68,
     "metadata": {},
     "output_type": "execute_result"
    }
   ],
   "source": [
    "#dataset['Income_min'] = dataset['Income'].apply(lambda x: x.split(' ')[])\n",
    "#dataset['Incomes'].apply(lambda x: x.split(' ')[0])\n",
    "#int(filter(str.isdigit, dataset['Incomes'].values[0].split(' ')[0].isdigit))\n",
    "#re.findall('\\d+',dataset['Incomes'].values[0].split(' ')[0])\n",
    "dataset['Incomes_min'] = dataset['Incomes'].apply(lambda x: x.split(' ')[0])\n",
    "dataset.Incomes_min.value_counts()\n"
   ]
  },
  {
   "cell_type": "code",
   "execution_count": 69,
   "metadata": {},
   "outputs": [
    {
     "data": {
      "text/plain": [
       "$150,000    742\n",
       "$75,000     394\n",
       "$100,000    316\n",
       "$40,000     265\n",
       "$30,000     238\n",
       "$20,000     216\n",
       "$50,000     207\n",
       "$10,000     163\n",
       "Name: Incomes_max, dtype: int64"
      ]
     },
     "execution_count": 69,
     "metadata": {},
     "output_type": "execute_result"
    }
   ],
   "source": [
    "dataset['Incomes_max'] = dataset['Incomes'].apply(lambda x: x.split(' ')[-1])\n",
    "dataset.Incomes_max.value_counts()"
   ]
  },
  {
   "cell_type": "code",
   "execution_count": 70,
   "metadata": {},
   "outputs": [
    {
     "data": {
      "text/plain": [
       "$100,000    742\n",
       "$50,000     394\n",
       "$75,000     316\n",
       "$30,000     265\n",
       "$20,000     238\n",
       "$10,000     216\n",
       "$40,000     207\n",
       "0           163\n",
       "Name: Incomes_min, dtype: int64"
      ]
     },
     "execution_count": 70,
     "metadata": {},
     "output_type": "execute_result"
    }
   ],
   "source": [
    "#dataset['Incomes_min'] = dataset['Incomes'].apply(lambda x: x.split(' ')[0])\n",
    "#dataset.Incomes_min.value_counts()\n",
    "dataset['Incomes_min'] = dataset['Incomes_min'].replace('Less','0')\n",
    "dataset.Incomes_min.value_counts()"
   ]
  },
  {
   "cell_type": "code",
   "execution_count": 71,
   "metadata": {},
   "outputs": [
    {
     "data": {
      "text/plain": [
       "Age                    int64\n",
       "Race                  object\n",
       "Sex                   object\n",
       "Education             object\n",
       "Employement           object\n",
       "Books_last_12m         int64\n",
       "Printed_books         object\n",
       "Audio_books           object\n",
       "E_books               object\n",
       "Daily_news            object\n",
       "Magazines_journals    object\n",
       "Incomes               object\n",
       "Incomes_min            int64\n",
       "Incomes_max            int64\n",
       "dtype: object"
      ]
     },
     "execution_count": 71,
     "metadata": {},
     "output_type": "execute_result"
    }
   ],
   "source": [
    "dataset['Incomes_min'] = dataset['Incomes_min'].apply(lambda x: int(x.replace('$','').replace(',','')))\n",
    "dataset['Incomes_max'] = dataset['Incomes_max'].apply(lambda x: int(x.replace('$','').replace(',','')))\n",
    "dataset.dtypes"
   ]
  },
  {
   "cell_type": "code",
   "execution_count": 72,
   "metadata": {},
   "outputs": [
    {
     "data": {
      "text/plain": [
       "Incomes_max  Incomes_min\n",
       "150000       100000         742\n",
       "75000        50000          394\n",
       "100000       75000          316\n",
       "40000        30000          265\n",
       "30000        20000          238\n",
       "20000        10000          216\n",
       "50000        40000          207\n",
       "10000        0              163\n",
       "dtype: int64"
      ]
     },
     "execution_count": 72,
     "metadata": {},
     "output_type": "execute_result"
    }
   ],
   "source": [
    "dataset[{'Incomes_max', 'Incomes_min'}].value_counts()"
   ]
  },
  {
   "cell_type": "code",
   "execution_count": 73,
   "metadata": {},
   "outputs": [],
   "source": [
    "dataset['Incomes_avg'] = dataset[['Incomes_min','Incomes_max']].mean(axis=1)\n",
    "dataset['Incomes_avg'] = dataset['Incomes_avg'].astype(int)"
   ]
  },
  {
   "cell_type": "markdown",
   "metadata": {},
   "source": [
    "'Don’t know' values."
   ]
  },
  {
   "cell_type": "code",
   "execution_count": 74,
   "metadata": {},
   "outputs": [
    {
     "data": {
      "text/plain": [
       "1.770956316410862"
      ]
     },
     "execution_count": 74,
     "metadata": {},
     "output_type": "execute_result"
    }
   ],
   "source": [
    "len(dataset.loc[dataset.values == 'Don’t know'])/dataset.shape[0]*100"
   ]
  },
  {
   "cell_type": "code",
   "execution_count": 75,
   "metadata": {},
   "outputs": [
    {
     "data": {
      "text/plain": [
       "Age                     0\n",
       "Race                    0\n",
       "Sex                     0\n",
       "Education               0\n",
       "Employement             0\n",
       "Books_last_12m          0\n",
       "Printed_books         345\n",
       "Audio_books           345\n",
       "E_books               345\n",
       "Daily_news              0\n",
       "Magazines_journals      0\n",
       "Incomes                 0\n",
       "Incomes_min             0\n",
       "Incomes_max             0\n",
       "Incomes_avg             0\n",
       "dtype: int64"
      ]
     },
     "execution_count": 75,
     "metadata": {},
     "output_type": "execute_result"
    }
   ],
   "source": [
    "dataset.isna().sum()"
   ]
  },
  {
   "cell_type": "code",
   "execution_count": 76,
   "metadata": {},
   "outputs": [
    {
     "data": {
      "text/plain": [
       "array([[66, 'Refused', 'Male', 'College graduate', 'Retired', 97, 'Yes',\n",
       "        'No', 'Yes', 'No', 'Yes'],\n",
       "       [46, 'Native American/American Indian', 'Male',\n",
       "        'High school graduate', 'Employed full-time', 97, 'Yes', 'Yes',\n",
       "        'Yes', 'Yes', 'Yes'],\n",
       "       [32, 'Mixed race', 'Male', 'High school graduate',\n",
       "        'Employed full-time', 97, 'No', 'Yes', 'Yes', 'Yes', 'Yes'],\n",
       "       [27, 'Mixed race', 'Male', 'High school graduate',\n",
       "        'Employed full-time', 97, 'Yes', 'No', 'Yes', 'Yes', 'No'],\n",
       "       [16, 'Mixed race', 'Female', 'High school incomplete',\n",
       "        'Employed part-time', 97, 'Yes', 'Yes', 'No', 'Yes', 'No']],\n",
       "      dtype=object)"
      ]
     },
     "execution_count": 76,
     "metadata": {},
     "output_type": "execute_result"
    }
   ],
   "source": [
    "x = dataset.iloc[:, :11].values\n",
    "x[:5]"
   ]
  },
  {
   "cell_type": "code",
   "execution_count": 77,
   "metadata": {},
   "outputs": [
    {
     "data": {
      "text/plain": [
       "array([25000,  5000,  5000, 45000, 15000])"
      ]
     },
     "execution_count": 77,
     "metadata": {},
     "output_type": "execute_result"
    }
   ],
   "source": [
    "y = dataset.iloc[:, -1].values\n",
    "y[:5]"
   ]
  },
  {
   "cell_type": "markdown",
   "metadata": {},
   "source": [
    "## Taking care of missing data"
   ]
  },
  {
   "cell_type": "code",
   "execution_count": 78,
   "metadata": {},
   "outputs": [
    {
     "name": "stdout",
     "output_type": "stream",
     "text": [
      "[[66 'Refused' 'Male' 'College graduate' 'Retired' 97 'Yes' 'No' 'Yes'\n",
      "  'No' 'Yes']\n",
      " [46 'Native American/American Indian' 'Male' 'High school graduate'\n",
      "  'Employed full-time' 97 'Yes' 'Yes' 'Yes' 'Yes' 'Yes']\n",
      " [32 'Mixed race' 'Male' 'High school graduate' 'Employed full-time' 97\n",
      "  'No' 'Yes' 'Yes' 'Yes' 'Yes']\n",
      " [27 'Mixed race' 'Male' 'High school graduate' 'Employed full-time' 97\n",
      "  'Yes' 'No' 'Yes' 'Yes' 'No']\n",
      " [16 'Mixed race' 'Female' 'High school incomplete' 'Employed part-time'\n",
      "  97 'Yes' 'Yes' 'No' 'Yes' 'No']]\n"
     ]
    }
   ],
   "source": [
    "from sklearn.impute import SimpleImputer\n",
    "imputer = SimpleImputer(missing_values=np.nan, strategy='most_frequent')\n",
    "imputer.fit(x[:,6:9])\n",
    "x[:,6:9] = imputer.transform(x[:,6:9])\n",
    "print(x[:5])"
   ]
  },
  {
   "cell_type": "markdown",
   "metadata": {},
   "source": [
    "## Encoding categorical data"
   ]
  },
  {
   "cell_type": "markdown",
   "metadata": {},
   "source": [
    "### Encoding the Independent Variable"
   ]
  },
  {
   "cell_type": "code",
   "execution_count": 79,
   "metadata": {},
   "outputs": [],
   "source": [
    "from sklearn.compose import ColumnTransformer\n",
    "from sklearn.preprocessing import OneHotEncoder\n",
    "ct = ColumnTransformer(transformers=[('encoder', OneHotEncoder(), [1,2,3,4])], remainder='passthrough')\n",
    "x = np.array(ct.fit_transform(x))"
   ]
  },
  {
   "cell_type": "code",
   "execution_count": 80,
   "metadata": {},
   "outputs": [
    {
     "data": {
      "text/plain": [
       "array([[0.0, 0.0, 1.0, 0.0, 1.0, 0.0, 0.0, 0.0, 1.0, 0.0, 1.0, 0.0, 0.0,\n",
       "        0.0, 1.0, 0.0, 0.0, 0.0, 0.0, 0.0, 0.0, 1.0, 0.0, 0.0, 1.0, 1.0,\n",
       "        0.0, 0.0, 0.0, 0.0, 0.0, 0.0, 0.0, 0.0, 0.0, 0.0, 0.0, 0.0, 0.0,\n",
       "        1.0, 0.0, 66, 97],\n",
       "       [0.0, 0.0, 1.0, 0.0, 0.0, 1.0, 0.0, 0.0, 1.0, 0.0, 0.0, 1.0, 0.0,\n",
       "        0.0, 1.0, 0.0, 0.0, 0.0, 0.0, 1.0, 0.0, 0.0, 0.0, 0.0, 1.0, 0.0,\n",
       "        0.0, 1.0, 0.0, 0.0, 0.0, 0.0, 0.0, 0.0, 1.0, 0.0, 0.0, 0.0, 0.0,\n",
       "        0.0, 0.0, 46, 97],\n",
       "       [0.0, 1.0, 0.0, 0.0, 0.0, 1.0, 0.0, 0.0, 1.0, 0.0, 0.0, 1.0, 0.0,\n",
       "        0.0, 1.0, 0.0, 0.0, 0.0, 1.0, 0.0, 0.0, 0.0, 0.0, 0.0, 1.0, 0.0,\n",
       "        0.0, 1.0, 0.0, 0.0, 0.0, 0.0, 0.0, 0.0, 1.0, 0.0, 0.0, 0.0, 0.0,\n",
       "        0.0, 0.0, 32, 97],\n",
       "       [0.0, 0.0, 1.0, 0.0, 1.0, 0.0, 0.0, 0.0, 1.0, 0.0, 0.0, 1.0, 0.0,\n",
       "        1.0, 0.0, 0.0, 0.0, 0.0, 1.0, 0.0, 0.0, 0.0, 0.0, 0.0, 1.0, 0.0,\n",
       "        0.0, 1.0, 0.0, 0.0, 0.0, 0.0, 0.0, 0.0, 1.0, 0.0, 0.0, 0.0, 0.0,\n",
       "        0.0, 0.0, 27, 97],\n",
       "       [0.0, 0.0, 1.0, 0.0, 0.0, 1.0, 0.0, 1.0, 0.0, 0.0, 0.0, 1.0, 0.0,\n",
       "        1.0, 0.0, 0.0, 0.0, 0.0, 1.0, 0.0, 0.0, 0.0, 0.0, 1.0, 0.0, 0.0,\n",
       "        0.0, 0.0, 1.0, 0.0, 0.0, 0.0, 0.0, 0.0, 0.0, 1.0, 0.0, 0.0, 0.0,\n",
       "        0.0, 0.0, 16, 97]], dtype=object)"
      ]
     },
     "execution_count": 80,
     "metadata": {},
     "output_type": "execute_result"
    }
   ],
   "source": [
    "ct = ColumnTransformer(transformers=[('encoder', OneHotEncoder(), [28,29,30,31,32])], remainder='passthrough')\n",
    "x = np.array(ct.fit_transform(x))\n",
    "x[:5]"
   ]
  },
  {
   "cell_type": "markdown",
   "metadata": {},
   "source": [
    "## Splitting the dataset into the Training set and Test set"
   ]
  },
  {
   "cell_type": "code",
   "execution_count": 81,
   "metadata": {},
   "outputs": [],
   "source": [
    "from sklearn.model_selection import train_test_split\n",
    "x_train, x_test, y_train, y_test = train_test_split(x, y, test_size = 0.2, random_state = 1)"
   ]
  },
  {
   "cell_type": "code",
   "execution_count": 82,
   "metadata": {},
   "outputs": [
    {
     "name": "stdout",
     "output_type": "stream",
     "text": [
      "[[0.0 0.0 1.0 0.0 0.0 1.0 0.0 0.0 1.0 0.0 1.0 0.0 0.0 0.0 1.0 0.0 0.0 0.0\n",
      "  0.0 0.0 0.0 0.0 1.0 0.0 1.0 0.0 0.0 0.0 0.0 0.0 1.0 0.0 0.0 0.0 1.0 0.0\n",
      "  0.0 0.0 0.0 0.0 0.0 48 25]]\n"
     ]
    }
   ],
   "source": [
    "print(x_train[:1])"
   ]
  },
  {
   "cell_type": "code",
   "execution_count": 83,
   "metadata": {},
   "outputs": [
    {
     "name": "stdout",
     "output_type": "stream",
     "text": [
      "[[0.0 0.0 1.0 0.0 1.0 0.0 0.0 1.0 0.0 0.0 0.0 1.0 0.0 1.0 0.0 0.0 0.0 0.0\n",
      "  0.0 0.0 0.0 0.0 1.0 0.0 1.0 0.0 0.0 0.0 0.0 0.0 0.0 1.0 0.0 0.0 0.0 0.0\n",
      "  0.0 0.0 0.0 1.0 0.0 67 5]]\n"
     ]
    }
   ],
   "source": [
    "print(x_test[:1])"
   ]
  },
  {
   "cell_type": "code",
   "execution_count": 84,
   "metadata": {},
   "outputs": [
    {
     "name": "stdout",
     "output_type": "stream",
     "text": [
      "[125000]\n"
     ]
    }
   ],
   "source": [
    "print(y_train[:1])"
   ]
  },
  {
   "cell_type": "code",
   "execution_count": 85,
   "metadata": {},
   "outputs": [
    {
     "name": "stdout",
     "output_type": "stream",
     "text": [
      "[45000]\n"
     ]
    }
   ],
   "source": [
    "print(y_test[:1])"
   ]
  },
  {
   "cell_type": "markdown",
   "metadata": {},
   "source": [
    "# WIP"
   ]
  },
  {
   "cell_type": "code",
   "execution_count": null,
   "metadata": {},
   "outputs": [],
   "source": []
  }
 ],
 "metadata": {
  "interpreter": {
   "hash": "63fd5069d213b44bf678585dea6b12cceca9941eaf7f819626cde1f2670de90d"
  },
  "kernelspec": {
   "display_name": "Python 3.9.1 64-bit",
   "language": "python",
   "name": "python3"
  },
  "language_info": {
   "codemirror_mode": {
    "name": "ipython",
    "version": 3
   },
   "file_extension": ".py",
   "mimetype": "text/x-python",
   "name": "python",
   "nbconvert_exporter": "python",
   "pygments_lexer": "ipython3",
   "version": "3.9.1"
  },
  "orig_nbformat": 4
 },
 "nbformat": 4,
 "nbformat_minor": 2
}
